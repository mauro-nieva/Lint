{
  "nbformat": 4,
  "nbformat_minor": 0,
  "metadata": {
    "colab": {
      "name": "Velocidad secuencial.ipynb",
      "provenance": [],
      "authorship_tag": "ABX9TyOAJnZxiTtu/ymR66cBdkyP",
      "include_colab_link": true
    },
    "kernelspec": {
      "name": "python3",
      "display_name": "Python 3"
    }
  },
  "cells": [
    {
      "cell_type": "markdown",
      "metadata": {
        "id": "view-in-github",
        "colab_type": "text"
      },
      "source": [
        "<a href=\"https://colab.research.google.com/github/mauro-nieva/Lint/blob/master/HPC/Velocidad_secuencial.ipynb\" target=\"_parent\"><img src=\"https://colab.research.google.com/assets/colab-badge.svg\" alt=\"Open In Colab\"/></a>"
      ]
    },
    {
      "cell_type": "markdown",
      "metadata": {
        "id": "4oz3VNs61m3Z"
      },
      "source": [
        "---\n",
        "#1 Introduccion\n",
        "\n",
        "Este cuaderno determina el vector velocidad resultado del desplazamiento en un determinado tiempo en 3 dimensiones. Su objetivo es utilizar Python[2] en la plataforma Colab [3] para resolver la problematica de manera secuancial y tener punto de comparacion para su contraparte en GPU.\n",
        "\n",
        "Para poder describir un movimiento en tres dimensiones es necesario utilizar las cantidades vectoriales de desplazamiento, posición y velocidad.\n",
        "El vector de posición de una partícula es un vector trazado desde el origen de un sistema de coordenadas hasta la posición de la partícula. La posición está dada por los componentes en cada eje (X, Y, Z).[1]\n",
        "\n",
        "![posicion inicial.png](data:image/png;base64,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)\n",
        "\n",
        "Entonces el desplazamiento está dado por:\n",
        "\n",
        "![Desplazamiento.png](data:image/png;base64,iVBORw0KGgoAAAANSUhEUgAAAUIAAABeCAIAAADZrIqfAAAAAXNSR0IArs4c6QAAAARnQU1BAACxjwv8YQUAAAAJcEhZcwAADsMAAA7DAcdvqGQAABISSURBVHhe7Z2/i11F/8c3315kk85KklgISpqIgiIoGBddxEJMSEAWFCSr2KgEE0t/Lq6VGrcQQohxBQsLs2gEC7MRNSkSEFIlhYWVS4z5A/y+9r5n55nMmZkz995z1z3P83kV9zlz7pz5/J6Zm/U5s+2ff/6ZMgyjz/yf+1/DMHqLlbFh9B4rY8PoPe1lvHuAaxiGsfVoKePV1dWrAy5fvuxuGYaxxWgp49OnTz/++ONcfPfdd7pjGMZWo/QHp7W1tbvuuuvixYv79u2bnp6+cOGC+8IwjK1EaTX+/vvvd+3atXPnTsqYYr527Zr7YgKwaecX+LZt21ZWVmguLCxs376d5uSEHjt2jPHvu+8+rpE+MzNDc35+Xt8aRo8olfHi4uILL7zAxezsLJ9U9eB291CrR44c+eWXX/bu3Xvy5Ekqip38qVOnNIm4Tp1CDd97771nzpxhemLKWFpa+vbbb5H+8MMPux6G0SPYVCe5evUq3/LJ9Z9//sn1/v379VWBc+fODUYtQR/XuwGFxO690KFbKGP0qbHLMLYy2TI+evRomN9ck/HUs2tPAE0Whw8fdu1q9I9wBejgut4KNvKtpirD6C/ZTfXx48effvpp15iaeuSRR/ic3L4a2FTzefDgQTU9/HBdXV11jRTsh501Gejgut7K2bNnqfDmvp1N/trammsYxpYnXcYrKyvXr19/7LHHXHtqStdff/21mjmot21t5Gryt99+4/Ohhx5SE1Bj9+7d/Gyem5vbvn175//cxQ/jRx991DUGUL38VOY3+ZUrV9wtw9jypMv45MmT7KJ37Njh2lNTLFkkN8uXmqS7/w9CKEt/TRG6FTBPWKghP/zwA7+NXWPA+fPnT5w4wVqqhfqrr77S/U7QbHLPPfeoCVjx0ksvhXcMox+42grQP26dOXPGtTfQL0nuX7p0SfV27tw5NqXT09Pvv/++6zQGDFj4Ycwk0u0/faEzEpM/jGWaaxjGliexGusH8JNPPuk2wRu888473P/mm29u3rx54cIF6uqtt976/PPPP/nkk/FXMK2Nub/3LC0t7du3L7eMjwaL/+T+oGUYm8mIrw3gZyo1wFK2CWWwvLz8448/Mlm49uRhzmI17nbWMIzJUfrPPwr8+uuvm7OUhTU8uf+iyzB6zYhlTGmxy3WNibGysrK4uHjw4EG23Oyru/0nriQSxMVPP/2kfb5hbH1G3FTPz8/Pzs4+8cQTrj0ZkBKuwHNzcwcOHHCNyTAzM+OuBuT+4GwYWwp7pZ5h9J4RN9WGYWwdrIwNo/dYGRtG77EyNozeY2VsGL3Hytgweo+VsWH0Hitjw+g9VsaG0XusjA2j91gZG0bvsTI2jN5jZWwYvcfK2DB6j5WxYfQeK2PD6D3/fhmvrq4eOHDAv+naKIO79KLSyGMLCwvRy1K6Ynl5OXopipFD53JG76ghKNzHja49Cdbfcptn//79u3btco0J8MUXX+zdu9cfDXX16lXEoZVOXTq3cbBb7hAmcfToUQZxjQwM4q5SXLp0SYK8sXqLNRRewc236O8aKXi28LjQW8EjsMh9neLMmTPT09OuEYC70B9bXLsLDg9wjSAisovPsJlE592VT/9ad1PRUTpCDLzD1QQ1m/BVOTokVevbyBlBUkKar3APIRU//fRT19gA8yNPdkspuX2GdZsZHpxIOkYBluP8TfIyrPMkxCM8NS4JY7qrDKQRfcII0Sz4XZVf9kxrdoJq0o+DxFZbGDM3r6mSy+6qJykIDf2kqQwpZyeDJCedkHU3FR2FRQwSTtYaNuf/mujUlLFWCPmTz2SJRiA3NywSWx8fjVJyY4OcVV4cRiZplQKmAFDSrTVcCc51VxmQQh8/f2P4+HPnem62lTEdQqE19uK3wrCM0Cq0hjAQIZp8dY2LxvcSoHCrziSh3yuh2/j7jpoypg9Tlb9uNZYBC5mmKbuTfI4oJTcisQHVvftySPscSWdpIvc+ChnkxuGaGvZyW11DH3eVh2VQKyGiiZluJuFbBkRJ185Qk50exTjpkAi6adcg8yMvMTO2xqsGnJAbh/t8qzC5WxnWY9O2C4UaR/kFFmMxOZlUojI6dCsMEqFl2TXy4HzfTWr4OVoQu+hOJ2STW3HiQrky5szXhPEZ1jVuBVlY21rDgvDX+DcnK0QqKRI180JrPGqyU8jkmqxSNks9VGXeiVRVvGpcV4bo5+Yy5KJta51ApTKVjmL6QCjRafV8TXTqy5ihsLfGpYRDW1c6o2dz/kLoJPa22eRGCW+k3KfrriBsuSzBTsJArrh2ERRL+kUJlCMZP1zPVxjbGjD1TK6cmoOT5OxlNK1vrl0Et9BZu6Ski2R408BhFeNmrrTIDZ6qmdkxis6ucSsjOKoyMQrRGQyfJmesZtgaY4GemEz1YkIuPXLWjUO6jEkCcsU1Bu5DP9dIMULN5MoYLzClKVndrQHERo+QvmGZ0a11zwao4a7yKPxhOalaEBrFmD5lhwieih5MIqNcIwApfIU3whyiOXDqOqEfPLkyHpam1ULTB2o0dUZhcI0B9KlZfCodxVBRVihArrEBOtREBwNbvYSHVZmuHdAUrY2SyFmNUHCN7kj/3fj06dOvv/66a0xNPfvss9evX19ZWXHtBuVjjXNnmjVP9F9eXl5cXPz444+feeYZ3BRKPHTo0O233/7KK6+cPXvWnwJz7do1ut1///1qjolOUQ4PZ2clmZ2dnZubO3LkSPh32g7Pvpmfn8cP/qC53bt362JhYQEpb7755l9//fXuu+/qJmA+GY/VXOvsy8lx48YNd7UB2vL54osvPvfcc8ePH/cRxDl8Rex+//133RFo++CDD7rG2DBaOIvhog8++AA1XHuDrqKDdTMzM9Sq/g6sP//qq6Ton3/+mU8Snke+/PJL3dwkVGkhpAgzUDTTMwtq7vEbBpJpnHmFGS6Srt0LI6s5mLb+M75fkZjn/OyoQVC1OSVHJC2NQFxTJV1Qz14xwButWzsYrDGlRQb9Gcq7Giv8FhRxuo/DvXWa77WG0FMLdTTxazWOwjcCCA39D5gc7pCRElkX2YsJ0pahyvpEDyaRXc1u3HRXG1RGB+vKqzFq42Fdoz+2R66ORNNZHiNkfEVoGCFMG6BDbqEeh0Ry4wKUaKIaw4/YgzboGu1whkIx9kYyGuMzoO7gX67pEMUDb3rPAt14Cn18veVgKHeVAeeuG5n6YYaUMHvCWiqznpv57NQ4Eb5iPdjrawBvYK+ulStoG1UIEseJi0dTjGsMhpU4NTWBokzoh4G5/7EXxRiBPqjqbmWIHmzCUOveGRB5njvuakB9dLCl0C1ZBX79ENxxVwOw1KcrOUkz6g/NQTqhJbmTEBvZ31o8ZfBjOXgRxLJ1Xs8RebwebIymz7CWyrRmZyuIHtbJJNCYQgV+jqq0lZHtHflBiCJbH51yGdcwbFJprRotgcsMndyslp1M9oAT660Ka3gS81kSX8NcqJz4ROeRc24ofA3X26stUleJgpl++a0BhTfHMx4sDWtpM6MTia6BGdYv190ydBmTUs2N38gwGrbVpB35RE99blqcyAkkgjYgNCFanCcENiJU0sHdLUIS84gqvyuIdU24EYqSpLU85u5OGAKBvQglJUikzYxOJNrdLVLpydEY+mBU/X9odu7cqeb4rK6ufvTRR2+88caePXvcrRThoeF33HFHhwrkWFtbu3LlimtMTd199907duxwjclz+fLlmzdv6vq2224rOweWlpZ45LXXXuvcM8vLyydOnCgf9Rz5Kve3iW4JXbQ5KeEZSjTOOXTo0ERP57bzjQ2j99hrAwyj91gZG0bvsTI2jN5jZWwYvcfK2DB6j5WxYfQeK2PD6D1WxobRe6yMDaP3WBkbRu+xMjaM3mNlbBi9x8rYMHqPlbFh9B4rY8PoPf9+Gf93HIy6srKCFeG7Dbqiv+eS4pCFhQX/EtyuYECGPXbsmGsPSfLs0k0G/dFh+/btrr3B6B4bvAMky/7/loNRa3h/45hPvWlNb6XxzSShaJSvfKULA1a+6SZ88wuxkD5ehJqgZhO9Ccg1UrRq4l8Q6dVodUsolMfD+BbgKXCNPAwVORnFpI9nuu0oLEbo/J1YytsQnxhJyJzwHa+eeo+FlMoYX0ihbl/v5CEP8HikMRFCor+Jd1qtIrGSHhkBxPmXOUmTcllGotETi1rdVVnGpHXYTYOHyUGHsjh0K3umRhM6hBHhkbJbIqEoWdZBrBdxRRmjTNQNh/gpBlfU+B/9c3PQaOCc0CdckEitSZuzl/s1HgsplTEJzYj4xWd2t2BJc1IMKwF3jDAzjYP3IEIRXa7hJPiqtTBqiif0g4fB/UJHB65bU7ZMjSZ6IbZf3+g/lFvQs6Zs8Dy4RgYGwSeusUHoEL5t1Y1B0Mc1OoIx/VQiJceZSio9FlKyB20IHvp5T+WQa3IkFdJSn9z8IBFqatjLLXerR1oRg9YazonmWW4m7fLwbGvxIL3pdg3OJ0LRMOlY4dUbXxMgEzThEpdCseWEMjPyoGtkqCnjQV5kx8EhNeuNdq26xna0HWpWKoPh+Kr19fqKozIHq7mO7KrxWEi2jLFNAyk2CNb9rmB8hnWNW0EWvmitYYEXfFQ6AQ8ivSa0OdHYVQ5kTfHg/GQfapuvkNuqIerVzL81ZSyJfIK7lSEptCZG9AHXyMDIuT4oVmMIEF9Vu6bC1pKrRwO2WgHhVII+zUe40+qxkGwZMwox1rVSR9ddgaI5v+NlKqG5306CYsk52K8MSbxpEZpNwbWL5EQzfjIwEp3EdQrAOc1BoN459ExGbVhNQPtqEs618ySFSqJrBGDjQGaCZG5wPxk4VUXNpA+ao7EIEbmtyggugvolVD1ZrtAhaVHOYznSXRk6nFOJTTmzR6gZFE2GChdjJIGJJnWCpEewPwwY3bqaUDWbai8QrXWSHm1JcqIxmc6ukQKHJG0PoUNyEGIReQZV6YzTmuq1VnuNJqAyjpIeuZGXICkUQ3jcNTLQJ2lvSDKXuEO8ItsBbUmVyI10YxCBJ93dLkBKcipJZg4KS4fckssjfOsaFaT/bvw/eDAqyszMzLz66qt79uwh/Kjhvhho9eGHH7733nv+DePQ7ZmsSZrnkkLzcNDk+alS74EHHnDt8Th//jwJ51+qfjlzDGq3QpP8/fff7moAmjz11FOnTp3S6/iJFA7RVyjcPNR2QmeXIpf0YEAdSIBz9F8QJDMHZagmZh8mwYsXL+r8hnFRpYUQCWaLaF5hlsVyLvxuhAmjZiLPgQ2RdGYs5DKymgweju/nMyZRvwhoEFSVbuNAbfjpGRczbDTxo0x4pyCa++UNAuOEpiVh2GYfKRYuL7hLkUJiqAnq4UzXyFOjCeMzVLMbaoSaQE4o3XLLjqc5WhOSMOyDYgzrF3/lj/e8Txj6+KQiyjJE+wv64DT/7WhIrhfnE0NNQGKYOShMBy7owwVNHgF9KzCz1WMhiTKWmCboqupFAJrhiGh3NxQMxZjeg4zG+AyoO5jNNR2iHRqWEwnXGHTjKfTxThwBjYksnyKElmYYfoiCkRPN/dCuJPRpVkUEcY3cq6iLUBOBCWHq+HwtU6MJNkpoVGY0ozs5odxsTnYRzdGaMEg4jqIWEXkeA8NhCZnPKOyiGdXPsOBzJWpIFDjMD+OF2qBrVg76N7f3NR4LSZRxK2gptcYpHkDX1siF4DJsC5N1M4mCkYOQ0NM1MtQUD2aSZDUSAaFRLMJ8LVCjSY5B3d0SvqRQDCFTWw1pjtaEQRBRnwD4pFkhm09l5ngqPRYydBkz20WTzcgMFRW6+RoecwYdDSbvVs/iHCwac3bzkNY1NeZr2LsFRw2V7qOB3LDwckLp5hef8cEhrdUufA1zIf/8W9RkTsgIHhu6jMmVoZb7MoyGkTUJR/zoqc/KQHaFlNRmSZmRBCvo1u0Ug6vL3sYVaIVbhH4QocZEE5fBkYUg6rYstD6+lVQ6mW7SDfzmcfOpzJyQ0TxmB6O2g8l//PGHrnNnlMqKl19+ufMzQZeL55JeHvL81E5YqzsGdX5+/s4773z++ee7PVAW6Z999tmNGzfefvttd6tBpOEmH2rrqcmckJE9ZgejGkbvsdcGGEbvsTI2jN5jZWwYvcfK2DB6j5WxYfQeK2PD6D1WxobRe6yMDaP3WBkbRs+Zmvp/DAVHeiaOpDoAAAAASUVORK5CYII=)\n",
        "\n",
        "La velocidad es la derivada del desplazamiento con respecto al tiempo:\n",
        "\n",
        "![velocidad.png](data:image/png;base64,iVBORw0KGgoAAAANSUhEUgAAAEAAAAAwCAIAAAAuKetIAAAAAXNSR0IArs4c6QAAAARnQU1BAACxjwv8YQUAAAAJcEhZcwAADsMAAA7DAcdvqGQAAAL3SURBVGhD7Zg9aypBFIb15geIsbeI9hZaSBALC/UHCFrYCYLYiySFlok/IIRIIJ0f2KpoYSMogopCSrUQsVKipEvjffXMDQt+ZK+7sxthn2IyZ3Z2nXfmzMw50W82G90l84f9vVg0AWqjCVAbTYDaaALURgkBfr9fr9dnMhlmywtCCQXADzWbTWbIikKxEFaA0w9xdKFKpWK1WjF0lA6Hgxrz+fz19fX9/f1wOKSny+WSHp0HLwEYfTgcfnt7w8QHg0Gv14tGjHW9Xj89PRUKhWKxWK/XjUajyWSiV85k60ccsFgsuVyO6hDwXQd3d3c+n48ZkuEiYDAYYGrG4zHqi8UC00x1Au70/PzMDMlw3AOfn5+TySQej398fBgMBvg9GuFF3W7X6XRSHxlgQvaIxWJ4Kpw5Aqch2oUucRC4DbrBVfAFrABmHcuC9nK5DJP6yMJRATTQx8dHZv8DLQeFqcWpPYCNuL/bDjaqyCkB+5Mt0n+U5NQmDgQCKEulEpmg1WqhDIVCZP4KmJAjwGEAM3YmNjfVaX324RTzHOMHAUIvEu8/OyH/AXvtLH64B4ReJN5/2LdFw147D/aN4+DMIS8S+g+4DBcC8BkMi4ar8ODEICpMR9CLEiswGo2o5fcgKhaCF6GMRqNk/iqUyMgQ0tExkEgkqEVGOEajQhqNxsvLCzN0OqRjSM2YIQ0lBNzc3Hg8HkrKCKRj0+mUGdK4SqfTrMoBOE82m31/f2+328gBKDNGtomk7Ovraz6fw4HNZjN1Pg+OKwAnwYiRBGOykQR/JzHQgxTHbreTKZXtWcoBRB/4OCUxyCqFP4TLRMachtcKvL6+4vC12WyodzodOoiJarUqYzzLS0Cv18PGRQVJcCqVQh0VQI/cbjcq2CHbrtLgdQ9kMpmHh4dkMtnv92GuViuUiEewJtYdOJogQ/pS8BKAyabLC/HsbDar1WqRSIT+h4VLAObt7a3L5dr1lYQSNzFXFLqJ+aEJUBtNgNpoAtRFp/sLa+oniwkCmCkAAAAASUVORK5CYII=)\n",
        "\n",
        "El cociente entre el desplazamiento y el intervalo de tiempo, es el vector de la velocidad media.\n",
        "\n",
        "![velocidad media.png](data:image/png;base64,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)\n",
        "\n",
        "La velocidad está dada por la suma de las velocidades en cada componente.\n",
        "\n",
        "![velocidad final.png](data:image/png;base64,iVBORw0KGgoAAAANSUhEUgAAAJQAAAAqCAIAAADanuWGAAAAAXNSR0IArs4c6QAAAARnQU1BAACxjwv8YQUAAAAJcEhZcwAADsMAAA7DAcdvqGQAAAT9SURBVHhe7Zs9MyxNFMe5H4Biv4BCqgRkxCiRzIZSQoG3LYFAQCJTNlAlQyZAokpCCUjI8Qm81PMJPL9nzrl9e2emR1s7T21f/Qv2zjkzc7rP+XefmcXt/Pj46IiEyS/9NxIgUbyAieIFTBQvYKJ4ARPFC5goXsD8Ea/zN1NTU+J5fX1Vl+VsCdvb2xq3s/P6+lqctVpNXZbTxeDgYLVaVaMQjdhsXsyEy46OjtR2I1cKJCjO8/NzdVnOLEyDC0hKbU/4ki7s7e1hDgwMvLy8qOu3c3R01HZ+H6IxEJGJry7LeXh4qC4H9/f3PpcJ38xrfn6+p6fHM/3Z2VnC8ql2gjiJo3YeT09PXLO2tqa2H3/EA+6fnJxUI4ECMXVCq906tra2GO7q6krtBEr81QSyMOGzszM1EkrKS9aQrSvp4CE1tROQjVWihgPmw40EVNuPT555BwcHKysr/f39apcJbeft7W1xcVHtppD+Nj09LaaLluRVr9fZVZVKRe08aNFMaWdnR20HJycnLNzh4WG1/SgSj1EfHx+XlpbULpm5ubnd3d3iWjw8PMjzg8KpqxGq8Omz0DMv8wxGAHU1QpyZmRk1HKyvrzOf8fFxtfMg/vHxsXRX6O3tlXEXFhbE40R3YAK727QXeQKl+k8LITKjm7bJQ+jT3iLQV7kxt+MxZ05l59x0XkRLPcAMMv/Us1AmYNombdCnOad6JlNlwj4tvWHn2at+f3+fl5/i/mO/X7lwvTd2dXXpUbL0VldXP+0tgizS3I53cXFBsbJz/mpeArucT9feOj09zfbMlLm8vOzTnO2eyW4bGRm5u7vzaukqYoJozgGyl/SeYpBnu+wANlPxy5gh9Z7JhJMknMi+aS4v2eKyt/jkRonpQt6cOZB3LlJDkv8CFSKblVsoCPM0qfmQFo9AHJBz6pWp5ZgXM+ktqf7jwi5oCqlCbj9sLi9KL9pnye2ZAn6G4xS3m4dCAdIzBf86CA3iSWkYkoF9oogAxbgSkFpTSlK1v+0VU1BQqkDyajTy1bxAUnPtA/qEaxryfCUv1wUpuJ5ZccAtjOhfCmgQT+4nXO76bTkyFqidwEY09eXYbnGpnpmCYrl6b25eyGMPlFpkhOIWl9KsEtc0UA4xwMycA4Ib7Iw4ZhRps4xFWBHSkxzxGF7tkmEsIB+1kwlQYkmA8nFg1wh5uJ5Cq21B5pxyrblsXtSL4GbdcJxqWZiurVPQM4FROMuIaidjEQ1/9pRMzFRAOoRrWWTJEc9eGqXCWKm9QhoiAzMhB0wjFYXGn71F4GIKpEaGbF4S2TjRww4r8riWAlcWtEQUSu0eJCEp4JRsMkHWIuDH5AJuFI+nfg3itQmpJMuDMsmqRw9bWsyCpdAEBGfx+W8pT9roV0LPz8988u3q9vb2/f1dnKXCKrm5uWHEvr4+871KfqDF9zMxvw/xJyYmNjY2qtWqfHdsGSpiG8B6512LTxoaC5+uZT8eyoD9LT2QliUehmaL4BTz+7CzyYW8OJDs9EQraCPxKCVIHTmwa1oS9DGWr3msUt+WNzcSYX8bWhv8J/7RrfyguVKp1Gq1oaEhz1/qtiE/Ubx6vf5PAsebm5viDJE2emH53+ju7r68vBwbGwtaOYj/VyFgfuLO+2uI4gVMFC9gongBE8ULmChewETxAiaKFzBRvICJ4gVMFC9gongBE8ULlo6OfwExwohuhhl65AAAAABJRU5ErkJggg==)"
      ]
    },
    {
      "cell_type": "markdown",
      "metadata": {
        "id": "hzgYzMjdL3B6"
      },
      "source": [
        "---\n",
        "#2 Armado del ambiente\n",
        "\n",
        "No son necesarios, ejecuciones previas del armado del ambiente."
      ]
    },
    {
      "cell_type": "markdown",
      "metadata": {
        "id": "aRDBbjYmNSgR"
      },
      "source": [
        "---\n",
        "#3 Desarrollo"
      ]
    },
    {
      "cell_type": "code",
      "metadata": {
        "colab": {
          "base_uri": "https://localhost:8080/"
        },
        "id": "8OiT5RZNNWzn",
        "outputId": "9d82fecb-35dd-47fe-9b85-dd63ed03d3f0"
      },
      "source": [
        "# --------------------------------------------\n",
        "#@title 3.1 Parámetros de ejecución { vertical-output: true }\n",
        "\n",
        "\n",
        "cantidad_N =   1#@param {type: \"number\"}\n",
        "tiempo =   240#@param {type: \"number\"}\n",
        "\n",
        "# --------------------------------------------\n",
        "\n",
        "from datetime import datetime\n",
        "\n",
        "tiempo_total = datetime.now()\n",
        "\n",
        "import numpy\n",
        "import sys\n",
        "\n",
        "# --------------------------------------------\n",
        "# Validacion de datos de entrada\n",
        "\n",
        "try:\n",
        "  if tiempo<1:\n",
        "    raise Exception(\"tiempo incorrecto\")\n",
        "except Exception:\n",
        "    sys.exit(\"El tiempo debe ser mayor a cero.\") \n",
        "\n",
        "try:\n",
        "  if cantidad_N<1:\n",
        "    raise Exception(\"cantidad incorrecta\")\n",
        "except Exception:\n",
        "    sys.exit(\"La cantidad de vectores debe ser mayor a cero.\") \n",
        "    \n",
        "\n",
        "# --------------------------------------------\n",
        "# Definición de función que transforma el tiempo en  milisegundos \n",
        "tiempo_en_ms = lambda dt:(dt.days * 24 * 60 * 60 + dt.seconds) * 1000 + dt.microseconds / 1000.0\n",
        "\n",
        "# --------------------------------------------\n",
        "# CPU - Defino la memoria de los vectores en cpu.\n",
        "\n",
        "# Vector posicion inicial r1\n",
        "x1_cpu = numpy.random.randn( cantidad_N )\n",
        "x1_cpu = x1_cpu.astype( numpy.float32() )\n",
        "\n",
        "y1_cpu = numpy.random.randn( cantidad_N )\n",
        "y1_cpu = y1_cpu.astype( numpy.float32() )\n",
        "\n",
        "z1_cpu = numpy.random.randn( cantidad_N )\n",
        "z1_cpu = z1_cpu.astype( numpy.float32() )\n",
        "\n",
        "# Vector posicion final r2\n",
        "x2_cpu = numpy.random.randn( cantidad_N )\n",
        "x2_cpu = x2_cpu.astype( numpy.float32() )\n",
        "\n",
        "y2_cpu = numpy.random.randn( cantidad_N )\n",
        "y2_cpu = y2_cpu.astype( numpy.float32() )\n",
        "\n",
        "z2_cpu = numpy.random.randn( cantidad_N )\n",
        "z2_cpu = z2_cpu.astype( numpy.float32() )\n",
        "\n",
        "#Vector velocidad (resultado) V\n",
        "vx_cpu = numpy.empty_like( x1_cpu )\n",
        "vy_cpu = numpy.empty_like( y1_cpu )\n",
        "vz_cpu = numpy.empty_like( z1_cpu )\n",
        "\n",
        "# --------------------------------------------\n",
        "# CPU - Realizo la función v= (r2-r1)/tiempo\n",
        "\n",
        "tiempo_bucle = datetime.now()\n",
        "\n",
        "for idx in range( 0, cantidad_N ):\n",
        "  vx_cpu[idx] = (x2_cpu[idx] - x1_cpu[idx])/tiempo\n",
        "  vy_cpu[idx] = (y2_cpu[idx] - y1_cpu[idx])/tiempo\n",
        "  vz_cpu[idx] = (z2_cpu[idx] - z1_cpu[idx])/tiempo\n",
        "\n",
        "tiempo_bucle = datetime.now() - tiempo_bucle\n",
        "\n",
        "# --------------------------------------------\n",
        "# CPU - Informo el resultado.\n",
        "\n",
        "\n",
        "tiempo_total = datetime.now() - tiempo_total\n",
        "\n",
        "print(\"Tiempo Total: \", tiempo_en_ms( tiempo_total ), \"[ms]\" )\n",
        "print(\"Tiempo bucle: \", tiempo_en_ms( tiempo_bucle ), \"[ms]\" )"
      ],
      "execution_count": 5,
      "outputs": [
        {
          "output_type": "stream",
          "text": [
            "Tiempo Total:  1.156 [ms]\n",
            "Tiempo bucle:  0.165 [ms]\n"
          ],
          "name": "stdout"
        }
      ]
    },
    {
      "cell_type": "markdown",
      "metadata": {
        "id": "5hscc-FNUZuD"
      },
      "source": [
        "---\n",
        "#4 Tabla de pasos\n",
        "Tabla de pasos de la ejecución del programa:\n",
        "\n",
        " Procesador | Función | Detalle\n",
        "------------|---------|----------\n",
        "CPU      |  @param                | Lectura del tamaño de vectores desde Colab.\n",
        "CPU      |  import                | Importa los módulos para funcionar.\n",
        "CPU      |  datetime.now()        | Toma el tiempo inicial.\n",
        "CPU      |  numpy.random.randn( Cantidad_N ) | Inicializa los vectores r1, r2 y V.\n",
        "CPU      |  for...                | Realiza la resta de los vectores (r2-r1) y divide por el tiempo, guardando el resultado en V. \n",
        "CPU      |  datetime.now()        | Toma el tiempo final.\n",
        "CPU      |  print()               | Informa los resultados."
      ]
    },
    {
      "cell_type": "markdown",
      "metadata": {
        "id": "H4AVU2uMVZMR"
      },
      "source": [
        "---\n",
        "# 5 Conclusiones\n",
        "\n",
        "Con respecto al modelo de GPU, este desarrollo secuencial para el calculo de la velocidad no varia mucho si se trata de pocos vectores a operar, como ventaja podriamos decir que el codigo es mas sencillo e intuitivo. Sin embargo, al aumentar considerablemente el numero de vectores claramente queda en desventaja."
      ]
    },
    {
      "cell_type": "markdown",
      "metadata": {
        "id": "E2J_OKSQVcD6"
      },
      "source": [
        "---\n",
        "# 6 Bibliografía\n",
        "\n",
        "[1] Movimiento en tres dimensiones Fisica Aplicada: [Pagina YouTube](https://www.youtube.com/watch?reload=9&v=5LXGkZweXcs)\n",
        "\n",
        "[2] Introducción a Python: [Página Colab](https://github.com/wvaliente/SOA_HPC/blob/main/Documentos/Python_Basico.ipynb) \n",
        "\n",
        "[3] Tutorial Point Colab: [PDF](https://github.com/wvaliente/SOA_HPC/blob/main/Documentos/markdown-cheatsheet-online.pdf)"
      ]
    }
  ]
}